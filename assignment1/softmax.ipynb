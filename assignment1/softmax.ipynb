{
 "cells": [
  {
   "cell_type": "markdown",
   "metadata": {},
   "source": [
    "# Softmax exercise\n",
    "\n",
    "*Complete and hand in this completed worksheet (including its outputs and any supporting code outside of the worksheet) with your assignment submission. For more details see the [assignments page](http://vision.stanford.edu/teaching/cs231n/assignments.html) on the course website.*\n",
    "\n",
    "This exercise is analogous to the SVM exercise. You will:\n",
    "\n",
    "- implement a fully-vectorized **loss function** for the Softmax classifier\n",
    "- implement the fully-vectorized expression for its **analytic gradient**\n",
    "- **check your implementation** with numerical gradient\n",
    "- use a validation set to **tune the learning rate and regularization** strength\n",
    "- **optimize** the loss function with **SGD**\n",
    "- **visualize** the final learned weights\n"
   ]
  },
  {
   "cell_type": "code",
   "execution_count": 1,
   "metadata": {
    "collapsed": false
   },
   "outputs": [],
   "source": [
    "import random\n",
    "import numpy as np\n",
    "from cs231n.data_utils import load_CIFAR10\n",
    "import matplotlib.pyplot as plt\n",
    "\n",
    "from __future__ import print_function\n",
    "\n",
    "%matplotlib inline\n",
    "plt.rcParams['figure.figsize'] = (10.0, 8.0) # set default size of plots\n",
    "plt.rcParams['image.interpolation'] = 'nearest'\n",
    "plt.rcParams['image.cmap'] = 'gray'\n",
    "\n",
    "# for auto-reloading extenrnal modules\n",
    "# see http://stackoverflow.com/questions/1907993/autoreload-of-modules-in-ipython\n",
    "%load_ext autoreload\n",
    "%autoreload 2"
   ]
  },
  {
   "cell_type": "code",
   "execution_count": 2,
   "metadata": {
    "collapsed": false
   },
   "outputs": [
    {
     "name": "stdout",
     "output_type": "stream",
     "text": [
      "Train data shape:  (49000, 3073)\n",
      "Train labels shape:  (49000,)\n",
      "Validation data shape:  (1000, 3073)\n",
      "Validation labels shape:  (1000,)\n",
      "Test data shape:  (1000, 3073)\n",
      "Test labels shape:  (1000,)\n",
      "dev data shape:  (500, 3073)\n",
      "dev labels shape:  (500,)\n"
     ]
    }
   ],
   "source": [
    "def get_CIFAR10_data(num_training=49000, num_validation=1000, num_test=1000, num_dev=500):\n",
    "    \"\"\"\n",
    "    Load the CIFAR-10 dataset from disk and perform preprocessing to prepare\n",
    "    it for the linear classifier. These are the same steps as we used for the\n",
    "    SVM, but condensed to a single function.  \n",
    "    \"\"\"\n",
    "    # Load the raw CIFAR-10 data\n",
    "    cifar10_dir = 'cs231n/datasets/cifar-10-batches-py'\n",
    "    X_train, y_train, X_test, y_test = load_CIFAR10(cifar10_dir)\n",
    "    \n",
    "    # subsample the data\n",
    "    mask = list(range(num_training, num_training + num_validation))\n",
    "    X_val = X_train[mask]\n",
    "    y_val = y_train[mask]\n",
    "    mask = list(range(num_training))\n",
    "    X_train = X_train[mask]\n",
    "    y_train = y_train[mask]\n",
    "    mask = list(range(num_test))\n",
    "    X_test = X_test[mask]\n",
    "    y_test = y_test[mask]\n",
    "    mask = np.random.choice(num_training, num_dev, replace=False)\n",
    "    X_dev = X_train[mask]\n",
    "    y_dev = y_train[mask]\n",
    "    \n",
    "    # Preprocessing: reshape the image data into rows\n",
    "    X_train = np.reshape(X_train, (X_train.shape[0], -1))\n",
    "    X_val = np.reshape(X_val, (X_val.shape[0], -1))\n",
    "    X_test = np.reshape(X_test, (X_test.shape[0], -1))\n",
    "    X_dev = np.reshape(X_dev, (X_dev.shape[0], -1))\n",
    "    \n",
    "    # Normalize the data: subtract the mean image\n",
    "    mean_image = np.mean(X_train, axis = 0)\n",
    "    X_train -= mean_image\n",
    "    X_val -= mean_image\n",
    "    X_test -= mean_image\n",
    "    X_dev -= mean_image\n",
    "    \n",
    "    # add bias dimension and transform into columns\n",
    "    X_train = np.hstack([X_train, np.ones((X_train.shape[0], 1))])\n",
    "    X_val = np.hstack([X_val, np.ones((X_val.shape[0], 1))])\n",
    "    X_test = np.hstack([X_test, np.ones((X_test.shape[0], 1))])\n",
    "    X_dev = np.hstack([X_dev, np.ones((X_dev.shape[0], 1))])\n",
    "    \n",
    "    return X_train, y_train, X_val, y_val, X_test, y_test, X_dev, y_dev\n",
    "\n",
    "\n",
    "# Invoke the above function to get our data.\n",
    "X_train, y_train, X_val, y_val, X_test, y_test, X_dev, y_dev = get_CIFAR10_data()\n",
    "print('Train data shape: ', X_train.shape)\n",
    "print('Train labels shape: ', y_train.shape)\n",
    "print('Validation data shape: ', X_val.shape)\n",
    "print('Validation labels shape: ', y_val.shape)\n",
    "print('Test data shape: ', X_test.shape)\n",
    "print('Test labels shape: ', y_test.shape)\n",
    "print('dev data shape: ', X_dev.shape)\n",
    "print('dev labels shape: ', y_dev.shape)"
   ]
  },
  {
   "cell_type": "markdown",
   "metadata": {},
   "source": [
    "## Softmax Classifier\n",
    "\n",
    "Your code for this section will all be written inside **cs231n/classifiers/softmax.py**. \n"
   ]
  },
  {
   "cell_type": "code",
   "execution_count": 4,
   "metadata": {
    "collapsed": false
   },
   "outputs": [
    {
     "name": "stdout",
     "output_type": "stream",
     "text": [
      "loss: 2.368999\n",
      "sanity check: 2.302585\n"
     ]
    }
   ],
   "source": [
    "# First implement the naive softmax loss function with nested loops.\n",
    "# Open the file cs231n/classifiers/softmax.py and implement the\n",
    "# softmax_loss_naive function.\n",
    "\n",
    "from cs231n.classifiers.softmax import softmax_loss_naive\n",
    "import time\n",
    "\n",
    "# Generate a random softmax weight matrix and use it to compute the loss.\n",
    "W = np.random.randn(3073, 10) * 0.0001\n",
    "loss, grad = softmax_loss_naive(W, X_dev, y_dev, 0.0)\n",
    "\n",
    "# As a rough sanity check, our loss should be something close to -log(0.1).\n",
    "print('loss: %f' % loss)\n",
    "print('sanity check: %f' % (-np.log(0.1)))"
   ]
  },
  {
   "cell_type": "markdown",
   "metadata": {},
   "source": [
    "## Inline Question 1:\n",
    "Why do we expect our loss to be close to -log(0.1)? Explain briefly.**\n",
    "\n",
    "**Your answer:** At the beginning, we expect the weight values ​​for all classes to be roughly equal. Because the loss function is calculated as a negative logarithm of class probabilities. We expect that at the beginning it will be equal about: $$-log(0.1)$$.\n"
   ]
  },
  {
   "cell_type": "code",
   "execution_count": 5,
   "metadata": {
    "collapsed": false
   },
   "outputs": [
    {
     "name": "stdout",
     "output_type": "stream",
     "text": [
      "numerical: 1.634482 analytic: 1.634482, relative error: 5.620325e-08\n",
      "numerical: -0.069289 analytic: -0.069289, relative error: 9.631714e-07\n",
      "numerical: 1.884986 analytic: 1.884986, relative error: 2.278932e-08\n",
      "numerical: -2.224670 analytic: -2.224670, relative error: 3.812808e-08\n",
      "numerical: -3.557374 analytic: -3.557374, relative error: 8.084855e-09\n",
      "numerical: -5.749632 analytic: -5.749632, relative error: 1.537242e-08\n",
      "numerical: -2.531031 analytic: -2.531031, relative error: 4.475925e-09\n",
      "numerical: -2.862527 analytic: -2.862527, relative error: 9.730672e-09\n",
      "numerical: 0.048099 analytic: 0.048099, relative error: 4.789549e-07\n",
      "numerical: 0.319138 analytic: 0.319138, relative error: 2.471629e-09\n",
      "numerical: -0.265119 analytic: -0.265119, relative error: 7.147031e-08\n",
      "numerical: -0.891984 analytic: -0.891984, relative error: 5.718153e-08\n",
      "numerical: 1.571347 analytic: 1.571347, relative error: 3.374108e-08\n",
      "numerical: -0.986743 analytic: -0.986744, relative error: 5.442277e-08\n",
      "numerical: -0.896028 analytic: -0.896028, relative error: 2.405101e-08\n",
      "numerical: -1.485961 analytic: -1.485961, relative error: 1.813841e-08\n",
      "numerical: -0.204552 analytic: -0.204552, relative error: 2.592215e-07\n",
      "numerical: -1.571928 analytic: -1.571928, relative error: 1.697479e-08\n",
      "numerical: -1.912190 analytic: -1.912190, relative error: 7.457425e-09\n",
      "numerical: -0.765676 analytic: -0.765676, relative error: 4.132718e-08\n"
     ]
    }
   ],
   "source": [
    "# Complete the implementation of softmax_loss_naive and implement a (naive)\n",
    "# version of the gradient that uses nested loops.\n",
    "loss, grad = softmax_loss_naive(W, X_dev, y_dev, 0.0)\n",
    "\n",
    "# As we did for the SVM, use numeric gradient checking as a debugging tool.\n",
    "# The numeric gradient should be close to the analytic gradient.\n",
    "from cs231n.gradient_check import grad_check_sparse\n",
    "f = lambda w: softmax_loss_naive(w, X_dev, y_dev, 0.0)[0]\n",
    "grad_numerical = grad_check_sparse(f, W, grad, 10)\n",
    "\n",
    "# similar to SVM case, do another gradient check with regularization\n",
    "loss, grad = softmax_loss_naive(W, X_dev, y_dev, 5e1)\n",
    "f = lambda w: softmax_loss_naive(w, X_dev, y_dev, 5e1)[0]\n",
    "grad_numerical = grad_check_sparse(f, W, grad, 10)"
   ]
  },
  {
   "cell_type": "code",
   "execution_count": 6,
   "metadata": {
    "collapsed": false
   },
   "outputs": [
    {
     "name": "stdout",
     "output_type": "stream",
     "text": [
      "naive loss: 2.368999e+00 computed in 0.070783s\n",
      "vectorized loss: 2.368999e+00 computed in 0.076910s\n",
      "Loss difference: 0.000000\n",
      "Gradient difference: 0.000000\n"
     ]
    }
   ],
   "source": [
    "# Now that we have a naive implementation of the softmax loss function and its gradient,\n",
    "# implement a vectorized version in softmax_loss_vectorized.\n",
    "# The two versions should compute the same results, but the vectorized version should be\n",
    "# much faster.\n",
    "tic = time.time()\n",
    "loss_naive, grad_naive = softmax_loss_naive(W, X_dev, y_dev, 0.000005)\n",
    "toc = time.time()\n",
    "print('naive loss: %e computed in %fs' % (loss_naive, toc - tic))\n",
    "\n",
    "from cs231n.classifiers.softmax import softmax_loss_vectorized\n",
    "tic = time.time()\n",
    "loss_vectorized, grad_vectorized = softmax_loss_vectorized(W, X_dev, y_dev, 0.000005)\n",
    "toc = time.time()\n",
    "print('vectorized loss: %e computed in %fs' % (loss_vectorized, toc - tic))\n",
    "\n",
    "# As we did for the SVM, we use the Frobenius norm to compare the two versions\n",
    "# of the gradient.\n",
    "grad_difference = np.linalg.norm(grad_naive - grad_vectorized, ord='fro')\n",
    "print('Loss difference: %f' % np.abs(loss_naive - loss_vectorized))\n",
    "print('Gradient difference: %f' % grad_difference)"
   ]
  },
  {
   "cell_type": "code",
   "execution_count": 7,
   "metadata": {
    "collapsed": false
   },
   "outputs": [
    {
     "name": "stdout",
     "output_type": "stream",
     "text": [
      "iteration 0 / 2000: loss 773.985948\n",
      "iteration 100 / 2000: loss 284.257368\n",
      "iteration 200 / 2000: loss 105.375983\n",
      "iteration 300 / 2000: loss 39.921887\n",
      "iteration 400 / 2000: loss 15.964897\n",
      "iteration 500 / 2000: loss 7.163605\n",
      "iteration 600 / 2000: loss 3.924726\n",
      "iteration 700 / 2000: loss 2.747661\n",
      "iteration 800 / 2000: loss 2.403156\n",
      "iteration 900 / 2000: loss 2.205378\n",
      "iteration 1000 / 2000: loss 2.165973\n",
      "iteration 1100 / 2000: loss 2.071614\n",
      "iteration 1200 / 2000: loss 2.114326\n",
      "iteration 1300 / 2000: loss 2.068652\n",
      "iteration 1400 / 2000: loss 2.164981\n",
      "iteration 1500 / 2000: loss 2.008688\n",
      "iteration 1600 / 2000: loss 2.059668\n",
      "iteration 1700 / 2000: loss 2.077024\n",
      "iteration 1800 / 2000: loss 2.055732\n",
      "iteration 1900 / 2000: loss 2.092274\n",
      "training accuracy: 0.324673\n",
      "validation accuracy: 0.343000\n",
      "iteration 0 / 2000: loss 771.964960\n",
      "iteration 100 / 2000: loss 283.430540\n",
      "iteration 200 / 2000: loss 104.945969\n",
      "iteration 300 / 2000: loss 39.721454\n",
      "iteration 400 / 2000: loss 15.858826\n",
      "iteration 500 / 2000: loss 7.205460\n",
      "iteration 600 / 2000: loss 3.911535\n",
      "iteration 700 / 2000: loss 2.863509\n",
      "iteration 800 / 2000: loss 2.318806\n",
      "iteration 900 / 2000: loss 2.193932\n",
      "iteration 1000 / 2000: loss 2.125860\n",
      "iteration 1100 / 2000: loss 2.118024\n",
      "iteration 1200 / 2000: loss 2.063285\n",
      "iteration 1300 / 2000: loss 2.085193\n",
      "iteration 1400 / 2000: loss 2.058869\n",
      "iteration 1500 / 2000: loss 2.052207\n",
      "iteration 1600 / 2000: loss 2.036653\n",
      "iteration 1700 / 2000: loss 2.069870\n",
      "iteration 1800 / 2000: loss 2.056089\n",
      "iteration 1900 / 2000: loss 2.061124\n",
      "training accuracy: 0.329306\n",
      "validation accuracy: 0.339000\n",
      "iteration 0 / 2000: loss 784.364910\n",
      "iteration 100 / 2000: loss 287.802679\n",
      "iteration 200 / 2000: loss 106.646988\n",
      "iteration 300 / 2000: loss 40.330864\n",
      "iteration 400 / 2000: loss 16.080311\n",
      "iteration 500 / 2000: loss 7.196862\n",
      "iteration 600 / 2000: loss 3.967096\n",
      "iteration 700 / 2000: loss 2.766378\n",
      "iteration 800 / 2000: loss 2.316553\n",
      "iteration 900 / 2000: loss 2.124865\n",
      "iteration 1000 / 2000: loss 2.152031\n",
      "iteration 1100 / 2000: loss 2.099268\n",
      "iteration 1200 / 2000: loss 2.075703\n",
      "iteration 1300 / 2000: loss 2.115642\n",
      "iteration 1400 / 2000: loss 2.122426\n",
      "iteration 1500 / 2000: loss 2.065445\n",
      "iteration 1600 / 2000: loss 2.117088\n",
      "iteration 1700 / 2000: loss 2.055905\n",
      "iteration 1800 / 2000: loss 2.132122\n",
      "iteration 1900 / 2000: loss 2.125405\n",
      "training accuracy: 0.331694\n",
      "validation accuracy: 0.340000\n",
      "iteration 0 / 2000: loss 776.617314\n",
      "iteration 100 / 2000: loss 285.287644\n",
      "iteration 200 / 2000: loss 105.675880\n",
      "iteration 300 / 2000: loss 39.994672\n",
      "iteration 400 / 2000: loss 15.935250\n",
      "iteration 500 / 2000: loss 7.192761\n",
      "iteration 600 / 2000: loss 3.880017\n",
      "iteration 700 / 2000: loss 2.792843\n",
      "iteration 800 / 2000: loss 2.315875\n",
      "iteration 900 / 2000: loss 2.169034\n",
      "iteration 1000 / 2000: loss 2.123589\n",
      "iteration 1100 / 2000: loss 2.058806\n",
      "iteration 1200 / 2000: loss 2.142076\n",
      "iteration 1300 / 2000: loss 2.087088\n",
      "iteration 1400 / 2000: loss 2.093147\n",
      "iteration 1500 / 2000: loss 2.125399\n",
      "iteration 1600 / 2000: loss 2.040675\n",
      "iteration 1700 / 2000: loss 2.084735\n",
      "iteration 1800 / 2000: loss 2.123618\n",
      "iteration 1900 / 2000: loss 2.074644\n",
      "training accuracy: 0.327837\n",
      "validation accuracy: 0.339000\n",
      "lr 1.000000e-07 reg 2.500000e+04 train accuracy: 0.324673 val accuracy: 0.343000\n",
      "lr 1.000000e-07 reg 5.000000e+04 train accuracy: 0.329306 val accuracy: 0.339000\n",
      "lr 5.000000e-07 reg 2.500000e+04 train accuracy: 0.331694 val accuracy: 0.340000\n",
      "lr 5.000000e-07 reg 5.000000e+04 train accuracy: 0.327837 val accuracy: 0.339000\n",
      "best validation accuracy achieved during cross-validation: 0.343000\n"
     ]
    }
   ],
   "source": [
    "# Use the validation set to tune hyperparameters (regularization strength and\n",
    "# learning rate). You should experiment with different ranges for the learning\n",
    "# rates and regularization strengths; if you are careful you should be able to\n",
    "# get a classification accuracy of over 0.35 on the validation set.\n",
    "from cs231n.classifiers import Softmax\n",
    "results = {}\n",
    "best_val = -1\n",
    "best_softmax = None\n",
    "learning_rates = [1e-7, 5e-7]\n",
    "regularization_strengths = [2.5e4, 5e4]\n",
    "\n",
    "################################################################################\n",
    "# TODO:                                                                        #\n",
    "# Use the validation set to set the learning rate and regularization strength. #\n",
    "# This should be identical to the validation that you did for the SVM; save    #\n",
    "# the best trained softmax classifer in best_softmax.                          #\n",
    "################################################################################\n",
    "for lr in learning_rates:\n",
    "    for reg in regularization_strengths:\n",
    "        softmax = Softmax()\n",
    "        softmax.train(X_train, y_train, learning_rate=1e-7, reg=2.5e4,\n",
    "                      num_iters=2000, verbose=True)\n",
    "        y_train_pred = softmax.predict(X_train)\n",
    "        y_train_acc = np.mean(y_train == y_train_pred)\n",
    "        print('training accuracy: %f' % y_train_acc)\n",
    "        y_val_pred = softmax.predict(X_val)\n",
    "        y_val_acc = np.mean(y_val == y_val_pred)\n",
    "        print('validation accuracy: %f' % y_val_acc)\n",
    "        results[(lr, reg)] = (y_train_acc, y_val_acc)\n",
    "        if best_val < y_val_acc:\n",
    "            best_val = y_val_acc\n",
    "            best_softmax = softmax\n",
    "################################################################################\n",
    "#                              END OF YOUR CODE                                #\n",
    "################################################################################\n",
    "    \n",
    "# Print out results.\n",
    "for lr, reg in sorted(results):\n",
    "    train_accuracy, val_accuracy = results[(lr, reg)]\n",
    "    print('lr %e reg %e train accuracy: %f val accuracy: %f' % (\n",
    "                lr, reg, train_accuracy, val_accuracy))\n",
    "    \n",
    "print('best validation accuracy achieved during cross-validation: %f' % best_val)"
   ]
  },
  {
   "cell_type": "code",
   "execution_count": 8,
   "metadata": {
    "collapsed": false
   },
   "outputs": [
    {
     "name": "stdout",
     "output_type": "stream",
     "text": [
      "softmax on raw pixels final test set accuracy: 0.335000\n"
     ]
    }
   ],
   "source": [
    "# evaluate on test set\n",
    "# Evaluate the best softmax on test set\n",
    "y_test_pred = best_softmax.predict(X_test)\n",
    "test_accuracy = np.mean(y_test == y_test_pred)\n",
    "print('softmax on raw pixels final test set accuracy: %f' % (test_accuracy, ))"
   ]
  },
  {
   "cell_type": "code",
   "execution_count": 9,
   "metadata": {
    "collapsed": false
   },
   "outputs": [
    {
     "data": {
      "image/png": "[encoded data removed]",
      "text/plain": [
       "<matplotlib.figure.Figure at 0x7f042c156e80>"
      ]
     },
     "metadata": {},
     "output_type": "display_data"
    }
   ],
   "source": [
    "# Visualize the learned weights for each class\n",
    "w = best_softmax.W[:-1,:] # strip out the bias\n",
    "w = w.reshape(32, 32, 3, 10)\n",
    "\n",
    "w_min, w_max = np.min(w), np.max(w)\n",
    "\n",
    "classes = ['plane', 'car', 'bird', 'cat', 'deer', 'dog', 'frog', 'horse', 'ship', 'truck']\n",
    "for i in range(10):\n",
    "    plt.subplot(2, 5, i + 1)\n",
    "    \n",
    "    # Rescale the weights to be between 0 and 255\n",
    "    wimg = 255.0 * (w[:, :, :, i].squeeze() - w_min) / (w_max - w_min)\n",
    "    plt.imshow(wimg.astype('uint8'))\n",
    "    plt.axis('off')\n",
    "    plt.title(classes[i])"
   ]
  },
  {
   "cell_type": "code",
   "execution_count": null,
   "metadata": {
    "collapsed": true
   },
   "outputs": [],
   "source": []
  }
 ],
 "metadata": {
  "kernelspec": {
   "display_name": "Python 3",
   "language": "python",
   "name": "python3"
  },
  "language_info": {
   "codemirror_mode": {
    "name": "ipython",
    "version": 3
   },
   "file_extension": ".py",
   "mimetype": "text/x-python",
   "name": "python",
   "nbconvert_exporter": "python",
   "pygments_lexer": "ipython3",
   "version": "3.5.2"
  }
 },
 "nbformat": 4,
 "nbformat_minor": 0
}
